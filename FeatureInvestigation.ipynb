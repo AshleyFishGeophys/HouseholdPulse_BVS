{
 "cells": [
  {
   "cell_type": "code",
   "execution_count": 1,
   "id": "a4cadea7-e2ec-4b31-9308-c545a8948dc3",
   "metadata": {
    "tags": []
   },
   "outputs": [
    {
     "name": "stderr",
     "output_type": "stream",
     "text": [
      "WARNING (pytensor.configdefaults): g++ not available, if using conda: `conda install m2w64-toolchain`\n",
      "WARNING (pytensor.configdefaults): g++ not detected!  PyTensor will be unable to compile C-implementations and will default to Python. Performance may be severely degraded. To remove this warning, set PyTensor flags cxx to an empty string.\n",
      "WARNING (pytensor.tensor.blas): Using NumPy C-API based implementation for BLAS functions.\n"
     ]
    }
   ],
   "source": [
    "from utils.prepare_data import *\n",
    "from utils.math import *\n",
    "from utils.plots import *\n",
    "from model.model_bvs import *\n",
    "from model.inspect_results_bvs import *"
   ]
  },
  {
   "cell_type": "code",
   "execution_count": 2,
   "id": "24748d7d-8903-47eb-bb52-08b9c7f1fd7d",
   "metadata": {
    "tags": []
   },
   "outputs": [],
   "source": [
    "houshold_pulse_path = \"data/LC_household_pulse_v11.csv\""
   ]
  },
  {
   "cell_type": "code",
   "execution_count": 3,
   "id": "ee1c7d4a-531d-45b1-9cac-622b5f32a2e9",
   "metadata": {
    "tags": []
   },
   "outputs": [],
   "source": [
    "df = load_data(houshold_pulse_path)"
   ]
  },
  {
   "cell_type": "code",
   "execution_count": 4,
   "id": "167cc2ce-07d4-4990-845d-c5b9565b909b",
   "metadata": {
    "tags": []
   },
   "outputs": [],
   "source": [
    "cols_to_remove = [\n",
    "    # 'White', 'Black', 'AI_AN', 'Asian', 'NHPI', 'Hispanic', 'Multiple',\n",
    "    'Rural',\n",
    "    'Percent of 5+ pop with a completed primary series',\n",
    "    'Percent of 12+ pop with at least one dose',\n",
    "    'Percent of 18+ pop with a completed primary series',\n",
    "    'Percent of 65+ pop with a completed primary series',\n",
    "    'Political sum', \"Political Don't know\",\n",
    "    'std_error', 'count',\n",
    "    'Sept 24 Value',\n",
    "    'Sept 24 Low CI',\n",
    "    'Sept 24 High CI'\n",
    "]"
   ]
  },
  {
   "cell_type": "code",
   "execution_count": 5,
   "id": "0767d9ce-51df-4290-835e-70072a0a1ed2",
   "metadata": {
    "tags": []
   },
   "outputs": [],
   "source": [
    "df_cols_removed = remove_columns(df, cols_to_remove) "
   ]
  },
  {
   "cell_type": "code",
   "execution_count": 6,
   "id": "21b2ae8e-ae60-4614-8011-0d0fd138d647",
   "metadata": {
    "tags": []
   },
   "outputs": [],
   "source": [
    "df_states = set_states_as_idx(df_cols_removed)"
   ]
  },
  {
   "cell_type": "code",
   "execution_count": 7,
   "id": "91f6ebde-625e-4ebf-9d6c-74148adb40b9",
   "metadata": {
    "tags": []
   },
   "outputs": [
    {
     "name": "stdout",
     "output_type": "stream",
     "text": [
      "('7', '11', '2022')\n",
      "('8', '8', '2022')\n",
      "('9', '26', '2022')\n",
      "('10', '17', '2022')\n",
      "('11', '14', '2022')\n",
      "('12', '19', '2022')\n",
      "('1', '16', '2023')\n",
      "('2', '13', '2023')\n",
      "('3', '13', '2023')\n",
      "('4', '10', '2023')\n",
      "('5', '8', '2023')\n",
      "('6', '19', '2023')\n",
      "('7', '10', '2023')\n",
      "('8', '7', '2023')\n",
      "('9', '4', '2023')\n",
      "('10', '2', '2023')\n",
      "('10', '30', '2023')\n",
      "('2', '5', '2024')\n",
      "('3', '4', '2024')\n",
      "('4', '1', '2024')\n",
      "('4', '29', '2024')\n",
      "('5', '27', '2024')\n",
      "('6', '24', '2024')\n",
      "('7', '22', '2024')\n",
      "('8', '19', '2024')\n",
      "('9', '16', '2024')\n"
     ]
    }
   ],
   "source": [
    "col_name_patterns = [\n",
    "    r\"(\\d{2})/(\\d{2})/(\\d{4})\",  # mm/dd/yyyy\n",
    "    r\"(\\d)/(\\d{2})/(\\d{4})\",  # m/dd/yyyy\n",
    "    r\"(\\d)/(\\d)/(\\d{4})\",  # m/d/yyyy\n",
    "    r\"(\\d{2})/(\\d)/(\\d{4})\"  # mm/d/yyyy\n",
    "]\n",
    "df_states = convert_dates_to_same_format(df_states, col_name_patterns)"
   ]
  },
  {
   "cell_type": "code",
   "execution_count": 8,
   "id": "86acd36d-783e-466a-92a0-a545b4a113f1",
   "metadata": {
    "tags": []
   },
   "outputs": [],
   "source": [
    "# Most recent data format pattern\n",
    "col_name_patterns = [\n",
    "    r\"\\d{2}/\\d{2}/\\d{4}\", # mm/dd/yyyy,\n",
    "    r\"Avg\"\n",
    "]\n",
    "\n",
    "lc_rates = extract_lc_rates(df_states, col_name_patterns) "
   ]
  },
  {
   "cell_type": "code",
   "execution_count": null,
   "id": "53442d4e-5ed1-41e2-b6ce-9a843f0339cc",
   "metadata": {},
   "outputs": [],
   "source": []
  },
  {
   "cell_type": "code",
   "execution_count": 9,
   "id": "9c63a7e1-2264-409b-84a3-b9b9ec17f18c",
   "metadata": {
    "tags": []
   },
   "outputs": [],
   "source": [
    "from sklearn.inspection import permutation_importance\n",
    "from sklearn.ensemble import RandomForestClassifier"
   ]
  },
  {
   "cell_type": "code",
   "execution_count": null,
   "id": "87da1286-bf4a-4d1b-b17f-239d6c3a863d",
   "metadata": {},
   "outputs": [],
   "source": []
  },
  {
   "cell_type": "code",
   "execution_count": null,
   "id": "6c1363a9-0801-4038-a177-c093f119f35b",
   "metadata": {},
   "outputs": [],
   "source": []
  }
 ],
 "metadata": {
  "kernelspec": {
   "display_name": "Python 3 (ipykernel)",
   "language": "python",
   "name": "python3"
  },
  "language_info": {
   "codemirror_mode": {
    "name": "ipython",
    "version": 3
   },
   "file_extension": ".py",
   "mimetype": "text/x-python",
   "name": "python",
   "nbconvert_exporter": "python",
   "pygments_lexer": "ipython3",
   "version": "3.11.5"
  }
 },
 "nbformat": 4,
 "nbformat_minor": 5
}
